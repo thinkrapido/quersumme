{
 "cells": [
  {
   "cell_type": "code",
   "execution_count": 1,
   "id": "c15c0394-82e1-43f0-83f5-c97637a7dbc2",
   "metadata": {},
   "outputs": [],
   "source": [
    "import arrow\n",
    "import numpy as np\n",
    "import pandas as pd\n",
    "from functools import reduce\n",
    "import matplotlib.pyplot as plt\n",
    "\n"
   ]
  },
  {
   "cell_type": "code",
   "execution_count": 216,
   "id": "6b3da23b-1b98-4407-82eb-56cfcc43b125",
   "metadata": {},
   "outputs": [],
   "source": [
    "# functions\n",
    "\n",
    "to_date = lambda d : arrow.get(d)\n",
    "\n",
    "def days_until(end_date):\n",
    "    end_date = to_date(end_date)\n",
    "    def fn(d):\n",
    "        d = to_date(d)\n",
    "        return (d - end_date).days\n",
    "    return fn\n",
    "\n",
    "def date_to_str(s):\n",
    "    s = to_date(s)\n",
    "    s = s.format('DDMMYYYY')\n",
    "    return s\n",
    "datum = lambda d : d.format('DD.MM.YYYY')\n",
    "\n",
    "def date_parts(s): \n",
    "    s = date_to_str(s)\n",
    "    s = [s[:2],s[2:4],s[4:6],s[6:]]\n",
    "    s = np.array(s)\n",
    "    return s\n",
    "\n",
    "def quersumme(s):\n",
    "    s = str(s)\n",
    "    return sum(map(int, list(s)))\n",
    "\n",
    "def lebenszahl(s):\n",
    "    s = date_to_str(s)\n",
    "    summe = quersumme(s)\n",
    "    while summe >= 10:\n",
    "        summe = quersumme(summe)\n",
    "    return summe\n",
    "\n",
    "def paarsumme(ich, anderer):\n",
    "    split = lambda x : (x // 100, x % 100)\n",
    "    parts = lambda s : np.vectorize(int)(np.split(np.array(list(s)), 4)).T\n",
    "    multiply = lambda xi : xi[0] * 10 + xi[1]\n",
    "    \n",
    "    ich = multiply(parts(date_to_str(ich)))\n",
    "    anderer = multiply(parts(date_to_str(anderer)))\n",
    "    \n",
    "    summe = ich + anderer\n",
    "    summe = split(summe)\n",
    "    summe = np.concatenate((summe[0], [0])), np.concatenate(([0], summe[1]))\n",
    "    summe = summe[0] + summe[1]\n",
    "    summe = np.sum(summe)\n",
    "    \n",
    "#    summe = map(split, get_nums(parts(date_to_str(ich))) + get_nums(parts(date_to_str(anderer))))\n",
    "    return int(summe)\n",
    "\n",
    "def line(d, ich=arrow.now()):\n",
    "    return (d, datum(d), days_until('00010101')(d), lebenszahl(d), paarsumme(ich, d))"
   ]
  },
  {
   "cell_type": "code",
   "execution_count": 213,
   "id": "092d32d6-706e-4804-9d26-cd5b99b3acbe",
   "metadata": {},
   "outputs": [],
   "source": [
    "class DateIter:\n",
    "    def __init__(self, end_date, start_date='0001-01-01'):\n",
    "        self._end_date = arrow.get(end_date)\n",
    "        self._current = arrow.get(start_date)\n",
    "        \n",
    "    def __iter__(self):\n",
    "        return self\n",
    "    \n",
    "    def __next__(self):\n",
    "        if not self._current > self._end_date:\n",
    "            out = self._current\n",
    "            self._current = self._current.shift(days=+1)\n",
    "            return out\n",
    "        else:\n",
    "            raise StopIteration\n"
   ]
  },
  {
   "cell_type": "code",
   "execution_count": 219,
   "id": "55ccb71b-189b-4b59-b744-c814271e0dfc",
   "metadata": {},
   "outputs": [
    {
     "data": {
      "text/plain": [
       "((<Arrow [1984-06-28T00:00:00+00:00]>, '28.06.1984', 724454, 2, 87),\n",
       " (<Arrow [1992-12-07T00:00:00+00:00]>, '07.12.1992', 727538, 4, 80),\n",
       " (<Arrow [1992-12-07T00:00:00+00:00]>, '07.12.1992', 727538, 4, 168))"
      ]
     },
     "execution_count": 219,
     "metadata": {},
     "output_type": "execute_result"
    }
   ],
   "source": [
    "ich = '1984-06-28'\n",
    "anderer = '1992-12-07'\n",
    "ich = to_date(ich)\n",
    "anderer = to_date(anderer)\n",
    "\n",
    "#ich, heute, anderer, heute   anderer, ich\n",
    "line(ich),   line(anderer),   line(anderer, ich)\n"
   ]
  },
  {
   "cell_type": "code",
   "execution_count": 221,
   "id": "ef9afcab-ce46-413d-b520-7b04a9e6df94",
   "metadata": {},
   "outputs": [],
   "source": [
    "dates = [ d for d in DateIter(ich) ]\n"
   ]
  },
  {
   "cell_type": "code",
   "execution_count": 222,
   "id": "809bbe51-bac0-4a51-8a2c-5f7ee17c2cb5",
   "metadata": {},
   "outputs": [],
   "source": [
    "out = [ line(d) for d in dates ]"
   ]
  },
  {
   "cell_type": "code",
   "execution_count": 224,
   "id": "89f2f39e-1f1c-4e09-8202-753518568bd1",
   "metadata": {},
   "outputs": [],
   "source": [
    "out = np.array(out)[:, 1:]"
   ]
  },
  {
   "cell_type": "code",
   "execution_count": 225,
   "id": "9e15df8b-b173-4393-b509-9642d50e9b1c",
   "metadata": {},
   "outputs": [],
   "source": [
    "df = pd.DataFrame(out, columns=['datum', 'tage', 'lebenszahl', 'paarsumme'])"
   ]
  },
  {
   "cell_type": "code",
   "execution_count": 228,
   "id": "6e7ec77b-27ec-4b98-bb8c-2c2588840a67",
   "metadata": {},
   "outputs": [
    {
     "name": "stderr",
     "output_type": "stream",
     "text": [
      "/run/user/1000/ipykernel_4710/1573020371.py:2: MatplotlibDeprecationWarning: savefig() got unexpected keyword argument \"tight_layout\" which is no longer supported as of 3.3 and will become an error in 3.6\n",
      "  plt.savefig('paarsumme.png', tight_layout=True)\n"
     ]
    },
    {
     "data": {
      "image/png": "[encoded data removed]",
      "text/plain": [
       "<Figure size 432x288 with 1 Axes>"
      ]
     },
     "metadata": {
      "needs_background": "light"
     },
     "output_type": "display_data"
    }
   ],
   "source": [
    "ax = df[:100].plot.bar(x='tage', y='paarsumme')\n",
    "plt.savefig('paarsumme.png', tight_layout=True)"
   ]
  },
  {
   "cell_type": "code",
   "execution_count": 229,
   "id": "66a1720b-00f3-43b3-9618-fe80bbfb198a",
   "metadata": {},
   "outputs": [
    {
     "data": {
      "text/plain": [
       "724455"
      ]
     },
     "execution_count": 229,
     "metadata": {},
     "output_type": "execute_result"
    }
   ],
   "source": [
    "len(out)"
   ]
  },
  {
   "cell_type": "code",
   "execution_count": 231,
   "id": "ccceb5c8-1c5e-454b-9cc1-d9626d330e4c",
   "metadata": {},
   "outputs": [],
   "source": [
    "paarsumme = df[df['paarsumme'] == 168]"
   ]
  },
  {
   "cell_type": "code",
   "execution_count": 232,
   "id": "e9e29451-bf66-4e17-8c39-1cf68f393ccc",
   "metadata": {},
   "outputs": [
    {
     "data": {
      "text/plain": [
       "1511"
      ]
     },
     "execution_count": 232,
     "metadata": {},
     "output_type": "execute_result"
    }
   ],
   "source": [
    "len(paarsumme)"
   ]
  },
  {
   "cell_type": "code",
   "execution_count": 234,
   "id": "45b2bd1d-21bc-45ca-95f5-a0b728bd6b00",
   "metadata": {},
   "outputs": [
    {
     "data": {
      "text/html": [
       "<div>\n",
       "<style scoped>\n",
       "    .dataframe tbody tr th:only-of-type {\n",
       "        vertical-align: middle;\n",
       "    }\n",
       "\n",
       "    .dataframe tbody tr th {\n",
       "        vertical-align: top;\n",
       "    }\n",
       "\n",
       "    .dataframe thead th {\n",
       "        text-align: right;\n",
       "    }\n",
       "</style>\n",
       "<table border=\"1\" class=\"dataframe\">\n",
       "  <thead>\n",
       "    <tr style=\"text-align: right;\">\n",
       "      <th></th>\n",
       "      <th>datum</th>\n",
       "      <th>tage</th>\n",
       "      <th>lebenszahl</th>\n",
       "      <th>paarsumme</th>\n",
       "    </tr>\n",
       "  </thead>\n",
       "  <tbody>\n",
       "    <tr>\n",
       "      <th>27758</th>\n",
       "      <td>31.12.0076</td>\n",
       "      <td>27758</td>\n",
       "      <td>2</td>\n",
       "      <td>168</td>\n",
       "    </tr>\n",
       "    <tr>\n",
       "      <th>28122</th>\n",
       "      <td>30.12.0077</td>\n",
       "      <td>28122</td>\n",
       "      <td>2</td>\n",
       "      <td>168</td>\n",
       "    </tr>\n",
       "    <tr>\n",
       "      <th>63916</th>\n",
       "      <td>31.12.0175</td>\n",
       "      <td>63916</td>\n",
       "      <td>2</td>\n",
       "      <td>168</td>\n",
       "    </tr>\n",
       "    <tr>\n",
       "      <th>64281</th>\n",
       "      <td>30.12.0176</td>\n",
       "      <td>64281</td>\n",
       "      <td>2</td>\n",
       "      <td>168</td>\n",
       "    </tr>\n",
       "    <tr>\n",
       "      <th>64586</th>\n",
       "      <td>31.10.0177</td>\n",
       "      <td>64586</td>\n",
       "      <td>2</td>\n",
       "      <td>168</td>\n",
       "    </tr>\n",
       "    <tr>\n",
       "      <th>...</th>\n",
       "      <td>...</td>\n",
       "      <td>...</td>\n",
       "      <td>...</td>\n",
       "      <td>...</td>\n",
       "    </tr>\n",
       "    <tr>\n",
       "      <th>721945</th>\n",
       "      <td>15.08.1977</td>\n",
       "      <td>721945</td>\n",
       "      <td>2</td>\n",
       "      <td>168</td>\n",
       "    </tr>\n",
       "    <tr>\n",
       "      <th>721975</th>\n",
       "      <td>14.09.1977</td>\n",
       "      <td>721975</td>\n",
       "      <td>2</td>\n",
       "      <td>168</td>\n",
       "    </tr>\n",
       "    <tr>\n",
       "      <th>722004</th>\n",
       "      <td>13.10.1977</td>\n",
       "      <td>722004</td>\n",
       "      <td>2</td>\n",
       "      <td>168</td>\n",
       "    </tr>\n",
       "    <tr>\n",
       "      <th>722034</th>\n",
       "      <td>12.11.1977</td>\n",
       "      <td>722034</td>\n",
       "      <td>2</td>\n",
       "      <td>168</td>\n",
       "    </tr>\n",
       "    <tr>\n",
       "      <th>722063</th>\n",
       "      <td>11.12.1977</td>\n",
       "      <td>722063</td>\n",
       "      <td>2</td>\n",
       "      <td>168</td>\n",
       "    </tr>\n",
       "  </tbody>\n",
       "</table>\n",
       "<p>1511 rows × 4 columns</p>\n",
       "</div>"
      ],
      "text/plain": [
       "             datum    tage lebenszahl paarsumme\n",
       "27758   31.12.0076   27758          2       168\n",
       "28122   30.12.0077   28122          2       168\n",
       "63916   31.12.0175   63916          2       168\n",
       "64281   30.12.0176   64281          2       168\n",
       "64586   31.10.0177   64586          2       168\n",
       "...            ...     ...        ...       ...\n",
       "721945  15.08.1977  721945          2       168\n",
       "721975  14.09.1977  721975          2       168\n",
       "722004  13.10.1977  722004          2       168\n",
       "722034  12.11.1977  722034          2       168\n",
       "722063  11.12.1977  722063          2       168\n",
       "\n",
       "[1511 rows x 4 columns]"
      ]
     },
     "execution_count": 234,
     "metadata": {},
     "output_type": "execute_result"
    }
   ],
   "source": [
    "paarsumme"
   ]
  },
  {
   "cell_type": "code",
   "execution_count": null,
   "id": "4675d1df-223f-461d-b94d-64e73e24f94d",
   "metadata": {},
   "outputs": [],
   "source": []
  }
 ],
 "metadata": {
  "kernelspec": {
   "display_name": "Python 3 (ipykernel)",
   "language": "python",
   "name": "python3"
  },
  "language_info": {
   "codemirror_mode": {
    "name": "ipython",
    "version": 3
   },
   "file_extension": ".py",
   "mimetype": "text/x-python",
   "name": "python",
   "nbconvert_exporter": "python",
   "pygments_lexer": "ipython3",
   "version": "3.9.10"
  }
 },
 "nbformat": 4,
 "nbformat_minor": 5
}
