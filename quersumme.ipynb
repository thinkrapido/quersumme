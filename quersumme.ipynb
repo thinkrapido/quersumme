{
 "cells": [
  {
   "cell_type": "code",
   "execution_count": 1,
   "id": "c15c0394-82e1-43f0-83f5-c97637a7dbc2",
   "metadata": {},
   "outputs": [],
   "source": [
    "import arrow\n",
    "import numpy as np\n",
    "import pandas as pd\n",
    "from functools import reduce\n",
    "import matplotlib.pyplot as plt\n",
    "\n"
   ]
  },
  {
   "cell_type": "code",
   "execution_count": 9,
   "id": "6b3da23b-1b98-4407-82eb-56cfcc43b125",
   "metadata": {},
   "outputs": [],
   "source": [
    "# functions\n",
    "\n",
    "to_date = lambda d : arrow.get(d)\n",
    "\n",
    "def days_until(end_date):\n",
    "    end_date = to_date(end_date)\n",
    "    def fn(d):\n",
    "        d = to_date(d)\n",
    "        return (d - end_date).days\n",
    "    return fn\n",
    "\n",
    "def date_to_str(s):\n",
    "    s = to_date(s)\n",
    "    s = s.format('DDMMYYYY')\n",
    "    return s\n",
    "datum = lambda d : d.format('DD.MM.YYYY')\n",
    "\n",
    "def date_parts(s): \n",
    "    s = date_to_str(s)\n",
    "    s = [s[:2],s[2:4],s[4:6],s[6:]]\n",
    "    s = np.array(s)\n",
    "    return s\n",
    "\n",
    "def quersumme(s):\n",
    "    s = str(s)\n",
    "    return sum(map(int, list(s)))\n",
    "\n",
    "def lebenszahl(s):\n",
    "    s = date_to_str(s)\n",
    "    summe = quersumme(s)\n",
    "    while summe >= 10:\n",
    "        summe = quersumme(summe)\n",
    "    return summe\n",
    "\n",
    "def paarsumme(ich, anderer):\n",
    "    split = lambda x : (x // 100, x % 100)\n",
    "    parts = lambda s : np.vectorize(int)(np.split(np.array(list(s)), 4)).T\n",
    "    multiply = lambda xi : xi[0] * 10 + xi[1]\n",
    "    \n",
    "    ich = multiply(parts(date_to_str(ich)))\n",
    "    anderer = multiply(parts(date_to_str(anderer)))\n",
    "    \n",
    "    summe = ich + anderer\n",
    "    summe = split(summe)\n",
    "    summe = np.concatenate((summe[0], [0])), np.concatenate(([0], summe[1]))\n",
    "    summe = summe[0] + summe[1]\n",
    "    summe = np.sum(summe)\n",
    "    \n",
    "#    summe = map(split, get_nums(parts(date_to_str(ich))) + get_nums(parts(date_to_str(anderer))))\n",
    "    return int(summe)\n",
    "\n",
    "def line(d, ich=arrow.now()):\n",
    "    return (d, days_until('00010101')(d), datum(d), lebenszahl(d), datum(ich), lebenszahl(ich), paarsumme(ich, d))"
   ]
  },
  {
   "cell_type": "code",
   "execution_count": 3,
   "id": "092d32d6-706e-4804-9d26-cd5b99b3acbe",
   "metadata": {},
   "outputs": [],
   "source": [
    "class DateIter:\n",
    "    def __init__(self, end_date, start_date='0001-01-01'):\n",
    "        self._end_date = arrow.get(end_date)\n",
    "        self._current = arrow.get(start_date)\n",
    "        \n",
    "    def __iter__(self):\n",
    "        return self\n",
    "    \n",
    "    def __next__(self):\n",
    "        if not self._current > self._end_date:\n",
    "            out = self._current\n",
    "            self._current = self._current.shift(days=+1)\n",
    "            return out\n",
    "        else:\n",
    "            raise StopIteration\n"
   ]
  },
  {
   "cell_type": "code",
   "execution_count": 15,
   "id": "55ccb71b-189b-4b59-b744-c814271e0dfc",
   "metadata": {},
   "outputs": [
    {
     "data": {
      "text/html": [
       "<div>\n",
       "<style scoped>\n",
       "    .dataframe tbody tr th:only-of-type {\n",
       "        vertical-align: middle;\n",
       "    }\n",
       "\n",
       "    .dataframe tbody tr th {\n",
       "        vertical-align: top;\n",
       "    }\n",
       "\n",
       "    .dataframe thead th {\n",
       "        text-align: right;\n",
       "    }\n",
       "</style>\n",
       "<table border=\"1\" class=\"dataframe\">\n",
       "  <thead>\n",
       "    <tr style=\"text-align: right;\">\n",
       "      <th></th>\n",
       "      <th>tage bis heute vom 1.1.0001</th>\n",
       "      <th>anderer</th>\n",
       "      <th>lebenszahl anderer</th>\n",
       "      <th>ich</th>\n",
       "      <th>lebenszahl ich</th>\n",
       "      <th>paar summe</th>\n",
       "    </tr>\n",
       "  </thead>\n",
       "  <tbody>\n",
       "    <tr>\n",
       "      <th>0</th>\n",
       "      <td>724454</td>\n",
       "      <td>28.06.1984</td>\n",
       "      <td>2</td>\n",
       "      <td>05.04.2022</td>\n",
       "      <td>6</td>\n",
       "      <td>89</td>\n",
       "    </tr>\n",
       "    <tr>\n",
       "      <th>1</th>\n",
       "      <td>727538</td>\n",
       "      <td>07.12.1992</td>\n",
       "      <td>4</td>\n",
       "      <td>05.04.2022</td>\n",
       "      <td>6</td>\n",
       "      <td>82</td>\n",
       "    </tr>\n",
       "    <tr>\n",
       "      <th>2</th>\n",
       "      <td>727538</td>\n",
       "      <td>07.12.1992</td>\n",
       "      <td>4</td>\n",
       "      <td>28.06.1984</td>\n",
       "      <td>2</td>\n",
       "      <td>168</td>\n",
       "    </tr>\n",
       "  </tbody>\n",
       "</table>\n",
       "</div>"
      ],
      "text/plain": [
       "  tage bis heute vom 1.1.0001     anderer lebenszahl anderer         ich  \\\n",
       "0                      724454  28.06.1984                  2  05.04.2022   \n",
       "1                      727538  07.12.1992                  4  05.04.2022   \n",
       "2                      727538  07.12.1992                  4  28.06.1984   \n",
       "\n",
       "  lebenszahl ich paar summe  \n",
       "0              6         89  \n",
       "1              6         82  \n",
       "2              2        168  "
      ]
     },
     "execution_count": 15,
     "metadata": {},
     "output_type": "execute_result"
    }
   ],
   "source": [
    "ich = '1984-06-28'\n",
    "anderer = '1992-12-07'\n",
    "ich = to_date(ich)\n",
    "anderer = to_date(anderer)\n",
    "\n",
    "#ich, heute, anderer, heute   anderer, ich\n",
    "auswertung = pd.DataFrame(np.array([line(ich),   line(anderer),   line(anderer, ich)])[:,1:], columns=['tage bis heute vom 1.1.0001', 'anderer' ,'lebenszahl anderer', 'ich', 'lebenszahl ich', 'paar summe'])\n",
    "auswertung"
   ]
  },
  {
   "cell_type": "code",
   "execution_count": 5,
   "id": "ef9afcab-ce46-413d-b520-7b04a9e6df94",
   "metadata": {},
   "outputs": [],
   "source": [
    "dates = [ d for d in DateIter(ich) ]\n"
   ]
  },
  {
   "cell_type": "code",
   "execution_count": 6,
   "id": "809bbe51-bac0-4a51-8a2c-5f7ee17c2cb5",
   "metadata": {},
   "outputs": [],
   "source": [
    "out = [ line(d) for d in dates ]"
   ]
  },
  {
   "cell_type": "code",
   "execution_count": 7,
   "id": "89f2f39e-1f1c-4e09-8202-753518568bd1",
   "metadata": {},
   "outputs": [],
   "source": [
    "out = np.array(out)[:, 1:]"
   ]
  },
  {
   "cell_type": "code",
   "execution_count": 8,
   "id": "9e15df8b-b173-4393-b509-9642d50e9b1c",
   "metadata": {},
   "outputs": [],
   "source": [
    "df = pd.DataFrame(out, columns=['datum', 'tage', 'lebenszahl', 'paarsumme'])"
   ]
  },
  {
   "cell_type": "code",
   "execution_count": 9,
   "id": "6e7ec77b-27ec-4b98-bb8c-2c2588840a67",
   "metadata": {},
   "outputs": [
    {
     "name": "stderr",
     "output_type": "stream",
     "text": [
      "/home/jbc/.cache/pypoetry/virtualenvs/quersumme-KKD6wYbz-py3.9/lib/python3.9/site-packages/pandas/core/indexes/base.py:6982: FutureWarning: In a future version, the Index constructor will not infer numeric dtypes when passed object-dtype sequences (matching Series behavior)\n",
      "  return Index(sequences[0], name=names)\n",
      "/run/user/1000/ipykernel_5206/1573020371.py:2: MatplotlibDeprecationWarning: savefig() got unexpected keyword argument \"tight_layout\" which is no longer supported as of 3.3 and will become an error in 3.6\n",
      "  plt.savefig('paarsumme.png', tight_layout=True)\n"
     ]
    },
    {
     "data": {
      "image/png": "[encoded data removed]",
      "text/plain": [
       "<Figure size 432x288 with 1 Axes>"
      ]
     },
     "metadata": {
      "needs_background": "light"
     },
     "output_type": "display_data"
    }
   ],
   "source": [
    "ax = df[:100].plot.bar(x='tage', y='paarsumme')\n",
    "plt.savefig('paarsumme.png', tight_layout=True)"
   ]
  },
  {
   "cell_type": "code",
   "execution_count": 10,
   "id": "66a1720b-00f3-43b3-9618-fe80bbfb198a",
   "metadata": {},
   "outputs": [
    {
     "data": {
      "text/plain": [
       "724455"
      ]
     },
     "execution_count": 10,
     "metadata": {},
     "output_type": "execute_result"
    }
   ],
   "source": [
    "len(out)"
   ]
  },
  {
   "cell_type": "code",
   "execution_count": 16,
   "id": "ccceb5c8-1c5e-454b-9cc1-d9626d330e4c",
   "metadata": {},
   "outputs": [],
   "source": [
    "paarsumme = df[df['paarsumme'] == 168]\n",
    "paarsumme = df[-10:]"
   ]
  },
  {
   "cell_type": "code",
   "execution_count": 17,
   "id": "e9e29451-bf66-4e17-8c39-1cf68f393ccc",
   "metadata": {},
   "outputs": [
    {
     "data": {
      "text/plain": [
       "10"
      ]
     },
     "execution_count": 17,
     "metadata": {},
     "output_type": "execute_result"
    }
   ],
   "source": [
    "len(paarsumme)"
   ]
  },
  {
   "cell_type": "code",
   "execution_count": 18,
   "id": "45b2bd1d-21bc-45ca-95f5-a0b728bd6b00",
   "metadata": {},
   "outputs": [
    {
     "data": {
      "text/html": [
       "<div>\n",
       "<style scoped>\n",
       "    .dataframe tbody tr th:only-of-type {\n",
       "        vertical-align: middle;\n",
       "    }\n",
       "\n",
       "    .dataframe tbody tr th {\n",
       "        vertical-align: top;\n",
       "    }\n",
       "\n",
       "    .dataframe thead th {\n",
       "        text-align: right;\n",
       "    }\n",
       "</style>\n",
       "<table border=\"1\" class=\"dataframe\">\n",
       "  <thead>\n",
       "    <tr style=\"text-align: right;\">\n",
       "      <th></th>\n",
       "      <th>datum</th>\n",
       "      <th>tage</th>\n",
       "      <th>lebenszahl</th>\n",
       "      <th>paarsumme</th>\n",
       "    </tr>\n",
       "  </thead>\n",
       "  <tbody>\n",
       "    <tr>\n",
       "      <th>724445</th>\n",
       "      <td>19.06.1984</td>\n",
       "      <td>724445</td>\n",
       "      <td>2</td>\n",
       "      <td>79</td>\n",
       "    </tr>\n",
       "    <tr>\n",
       "      <th>724446</th>\n",
       "      <td>20.06.1984</td>\n",
       "      <td>724446</td>\n",
       "      <td>3</td>\n",
       "      <td>80</td>\n",
       "    </tr>\n",
       "    <tr>\n",
       "      <th>724447</th>\n",
       "      <td>21.06.1984</td>\n",
       "      <td>724447</td>\n",
       "      <td>4</td>\n",
       "      <td>81</td>\n",
       "    </tr>\n",
       "    <tr>\n",
       "      <th>724448</th>\n",
       "      <td>22.06.1984</td>\n",
       "      <td>724448</td>\n",
       "      <td>5</td>\n",
       "      <td>82</td>\n",
       "    </tr>\n",
       "    <tr>\n",
       "      <th>724449</th>\n",
       "      <td>23.06.1984</td>\n",
       "      <td>724449</td>\n",
       "      <td>6</td>\n",
       "      <td>83</td>\n",
       "    </tr>\n",
       "    <tr>\n",
       "      <th>724450</th>\n",
       "      <td>24.06.1984</td>\n",
       "      <td>724450</td>\n",
       "      <td>7</td>\n",
       "      <td>84</td>\n",
       "    </tr>\n",
       "    <tr>\n",
       "      <th>724451</th>\n",
       "      <td>25.06.1984</td>\n",
       "      <td>724451</td>\n",
       "      <td>8</td>\n",
       "      <td>85</td>\n",
       "    </tr>\n",
       "    <tr>\n",
       "      <th>724452</th>\n",
       "      <td>26.06.1984</td>\n",
       "      <td>724452</td>\n",
       "      <td>9</td>\n",
       "      <td>86</td>\n",
       "    </tr>\n",
       "    <tr>\n",
       "      <th>724453</th>\n",
       "      <td>27.06.1984</td>\n",
       "      <td>724453</td>\n",
       "      <td>1</td>\n",
       "      <td>87</td>\n",
       "    </tr>\n",
       "    <tr>\n",
       "      <th>724454</th>\n",
       "      <td>28.06.1984</td>\n",
       "      <td>724454</td>\n",
       "      <td>2</td>\n",
       "      <td>88</td>\n",
       "    </tr>\n",
       "  </tbody>\n",
       "</table>\n",
       "</div>"
      ],
      "text/plain": [
       "             datum    tage lebenszahl paarsumme\n",
       "724445  19.06.1984  724445          2        79\n",
       "724446  20.06.1984  724446          3        80\n",
       "724447  21.06.1984  724447          4        81\n",
       "724448  22.06.1984  724448          5        82\n",
       "724449  23.06.1984  724449          6        83\n",
       "724450  24.06.1984  724450          7        84\n",
       "724451  25.06.1984  724451          8        85\n",
       "724452  26.06.1984  724452          9        86\n",
       "724453  27.06.1984  724453          1        87\n",
       "724454  28.06.1984  724454          2        88"
      ]
     },
     "execution_count": 18,
     "metadata": {},
     "output_type": "execute_result"
    }
   ],
   "source": [
    "paarsumme"
   ]
  },
  {
   "cell_type": "code",
   "execution_count": 14,
   "id": "4675d1df-223f-461d-b94d-64e73e24f94d",
   "metadata": {},
   "outputs": [],
   "source": [
    "df.to_csv('data/alle_daten.csv')\n",
    "paarsumme.to_csv('data/paarsumme.csv')"
   ]
  },
  {
   "cell_type": "code",
   "execution_count": 15,
   "id": "5eca198a-3993-42e8-ab61-fdf8bb8c526e",
   "metadata": {},
   "outputs": [
    {
     "data": {
      "text/html": [
       "<div>\n",
       "<style scoped>\n",
       "    .dataframe tbody tr th:only-of-type {\n",
       "        vertical-align: middle;\n",
       "    }\n",
       "\n",
       "    .dataframe tbody tr th {\n",
       "        vertical-align: top;\n",
       "    }\n",
       "\n",
       "    .dataframe thead th {\n",
       "        text-align: right;\n",
       "    }\n",
       "</style>\n",
       "<table border=\"1\" class=\"dataframe\">\n",
       "  <thead>\n",
       "    <tr style=\"text-align: right;\">\n",
       "      <th></th>\n",
       "      <th>datum</th>\n",
       "      <th>tage</th>\n",
       "      <th>lebenszahl</th>\n",
       "      <th>paarsumme</th>\n",
       "    </tr>\n",
       "  </thead>\n",
       "  <tbody>\n",
       "    <tr>\n",
       "      <th>0</th>\n",
       "      <td>01.01.0001</td>\n",
       "      <td>0</td>\n",
       "      <td>3</td>\n",
       "      <td>53</td>\n",
       "    </tr>\n",
       "    <tr>\n",
       "      <th>1</th>\n",
       "      <td>02.01.0001</td>\n",
       "      <td>1</td>\n",
       "      <td>4</td>\n",
       "      <td>54</td>\n",
       "    </tr>\n",
       "    <tr>\n",
       "      <th>2</th>\n",
       "      <td>03.01.0001</td>\n",
       "      <td>2</td>\n",
       "      <td>5</td>\n",
       "      <td>55</td>\n",
       "    </tr>\n",
       "    <tr>\n",
       "      <th>3</th>\n",
       "      <td>04.01.0001</td>\n",
       "      <td>3</td>\n",
       "      <td>6</td>\n",
       "      <td>56</td>\n",
       "    </tr>\n",
       "    <tr>\n",
       "      <th>4</th>\n",
       "      <td>05.01.0001</td>\n",
       "      <td>4</td>\n",
       "      <td>7</td>\n",
       "      <td>57</td>\n",
       "    </tr>\n",
       "    <tr>\n",
       "      <th>5</th>\n",
       "      <td>06.01.0001</td>\n",
       "      <td>5</td>\n",
       "      <td>8</td>\n",
       "      <td>58</td>\n",
       "    </tr>\n",
       "    <tr>\n",
       "      <th>6</th>\n",
       "      <td>07.01.0001</td>\n",
       "      <td>6</td>\n",
       "      <td>9</td>\n",
       "      <td>59</td>\n",
       "    </tr>\n",
       "    <tr>\n",
       "      <th>7</th>\n",
       "      <td>08.01.0001</td>\n",
       "      <td>7</td>\n",
       "      <td>1</td>\n",
       "      <td>60</td>\n",
       "    </tr>\n",
       "    <tr>\n",
       "      <th>8</th>\n",
       "      <td>09.01.0001</td>\n",
       "      <td>8</td>\n",
       "      <td>2</td>\n",
       "      <td>61</td>\n",
       "    </tr>\n",
       "    <tr>\n",
       "      <th>9</th>\n",
       "      <td>10.01.0001</td>\n",
       "      <td>9</td>\n",
       "      <td>3</td>\n",
       "      <td>62</td>\n",
       "    </tr>\n",
       "  </tbody>\n",
       "</table>\n",
       "</div>"
      ],
      "text/plain": [
       "        datum tage lebenszahl paarsumme\n",
       "0  01.01.0001    0          3        53\n",
       "1  02.01.0001    1          4        54\n",
       "2  03.01.0001    2          5        55\n",
       "3  04.01.0001    3          6        56\n",
       "4  05.01.0001    4          7        57\n",
       "5  06.01.0001    5          8        58\n",
       "6  07.01.0001    6          9        59\n",
       "7  08.01.0001    7          1        60\n",
       "8  09.01.0001    8          2        61\n",
       "9  10.01.0001    9          3        62"
      ]
     },
     "execution_count": 15,
     "metadata": {},
     "output_type": "execute_result"
    }
   ],
   "source": [
    "df[:10]"
   ]
  },
  {
   "cell_type": "code",
   "execution_count": null,
   "id": "1bbda790-6841-42f0-bde3-8bc005fff061",
   "metadata": {},
   "outputs": [],
   "source": []
  }
 ],
 "metadata": {
  "kernelspec": {
   "display_name": "Python 3 (ipykernel)",
   "language": "python",
   "name": "python3"
  },
  "language_info": {
   "codemirror_mode": {
    "name": "ipython",
    "version": 3
   },
   "file_extension": ".py",
   "mimetype": "text/x-python",
   "name": "python",
   "nbconvert_exporter": "python",
   "pygments_lexer": "ipython3",
   "version": "3.9.10"
  }
 },
 "nbformat": 4,
 "nbformat_minor": 5
}
